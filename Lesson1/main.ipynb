{
 "cells": [
  {
   "cell_type": "code",
   "execution_count": 8,
   "id": "552aa1fb-eb89-478a-92f0-5759f9523c11",
   "metadata": {},
   "outputs": [
    {
     "name": "stdout",
     "output_type": "stream",
     "text": [
      "{'a': 2, 'b': 6} {'c': 23, 'd': 25} {'a': 12, 'e': 6}\n",
      "{'a': 2, 'b': 6}\n"
     ]
    }
   ],
   "source": [
    "a1 = {\"a\":2, \"b\":6}\n",
    "a2 = {\"c\":23, \"d\":25}\n",
    "a3 = {\"a\":12, \"e\":6}\n",
    "print(a1, a2, a3)\n",
    "a4 = {**a1}\n",
    "print(a4)"
   ]
  },
  {
   "cell_type": "code",
   "execution_count": null,
   "id": "c0515b56-0e49-4301-8113-c475585afe25",
   "metadata": {},
   "outputs": [],
   "source": []
  }
 ],
 "metadata": {
  "kernelspec": {
   "display_name": "Python 3 (ipykernel)",
   "language": "python",
   "name": "python3"
  },
  "language_info": {
   "codemirror_mode": {
    "name": "ipython",
    "version": 3
   },
   "file_extension": ".py",
   "mimetype": "text/x-python",
   "name": "python",
   "nbconvert_exporter": "python",
   "pygments_lexer": "ipython3",
   "version": "3.12.2"
  }
 },
 "nbformat": 4,
 "nbformat_minor": 5
}

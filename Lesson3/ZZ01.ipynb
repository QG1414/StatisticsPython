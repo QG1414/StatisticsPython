{
 "cells": [
  {
   "cell_type": "markdown",
   "id": "2c531868",
   "metadata": {
    "deletable": false,
    "editable": false,
    "nbgrader": {
     "cell_type": "markdown",
     "checksum": "f523dba23a51181899106d4f0b4a1d7b",
     "grade": false,
     "grade_id": "cell-fcd2666579131b77",
     "locked": true,
     "schema_version": 3,
     "solution": false,
     "task": false
    },
    "tags": []
   },
   "source": [
    "# Statystyka matematyczna - ćwiczenia laboratoryjne\n",
    "\n",
    "Ten notatnik zalicza się do grupy zestawów zadań, na podstawie których odbywa się zaliczenie ćwiczeń i podlega zwrotowi do oceny w ustalonym na zajęciach terminie.\n",
    "\n",
    "Uwagi i wytyczne ogólne dotyczące uzupełniania notatnika:\n",
    "- Podczas wykonywania zadań należy korzystać wyłącznie z pakietów zaimportowanych na początku notatnika oraz z pakietów wchodzących w skład standardowej biblioteki Pythona, które można zaimportować samodzielnie we wskazanej komórce notatnika.\n",
    "- Swoje rozwiązania należy wprowadzać wyłącznie w miejce następujących fragmentów kodu:<br/> `# YOUR CODE HERE`<br/> `raise NotImplementedError()`<br/> \n",
    "a odpowiedzi tekstowe w komórkach oznaczonych hasłem:<br/> \n",
    "`YOUR ANSWER HERE`<br/> \n",
    "Nie należy w żaden sposób modyfikować pozostałych fragmentów kodu oraz innych elementów notatnika, w szczególności dodawać lub usuwać komórek oraz zmieniać nazwy pliku.\n",
    "- Otrzymywane wyniki i odpowiedzi mają być rezultatem wykonania napisanego kodu.\n",
    "- Zadanie należy wykonać w taki sposób, aby podczas wykonywania kodu nie zostały wyświetlone żadne ostrzeżenia.\n",
    "- Zawarte w notatniku automatyczne testy mają charakter poglądowy. Dotyczą one wybranych aspektów zadań i mają za zadanie wyłapać podstawowe błędy. Przejście wszystkich testów nie oznacza, że zadanie jest wykonane w całości poprawnie.\n",
    "\n",
    "Uwagi i wytyczne ogólne dotyczące wizualizacji wyników:\n",
    "- Wszystkie wykresy powinny być wykonane w jednolitym, przejrzystym i czytelnym stylu, posiadać odpowiednio dobrane proporcje i zakresy wartości osi.\n",
    "- Wykresy oraz ich osie powinny mieć nadane tytuły. Jeżeli w obrębie figury znajduje się więcej niż jeden wykres to figura również powinna mieć nadany tytuł. \n",
    "- Figury powinny mieć ustawione białe tło, tak, aby niezależnie od ustawień notatnika wszystkie elementy wykresów były dobrze widoczne (domyślnie tło jest przeźroczyste co może powodować problemy w notatnikach z ustawionym ciemnym tłem).\n",
    "- Rozmiar poziomy figur nie powinien przekraczać 20 cali.\n",
    "\n",
    "Przed odesłaniem zestawu zadań do oceny proszę uzupełnić komórkę z danymi autorów rozwiązania (nazwa zespołu oraz imiona, nazwiska i numery indeksów członków zespołu) oraz upewnić się, że notatnik działa zgodnie z oczekiwaniami. W tym celu należy skorzystać z opcji **Restart Kernel and Run All Cells...** dostępnej na górnej belce notatnika pod symbolem $\\blacktriangleright\\blacktriangleright$."
   ]
  },
  {
   "cell_type": "markdown",
   "id": "6c5022a2",
   "metadata": {},
   "source": [
    "Nazwa zespołu: 43\n",
    "Członkowie:\n",
    "Kacper Potaczała 425724 ;\n",
    "Robert Skulik 428339 ;\n",
    "Maja Piątek 427763 ;"
   ]
  },
  {
   "cell_type": "markdown",
   "id": "de707ae4",
   "metadata": {
    "deletable": false,
    "editable": false,
    "nbgrader": {
     "cell_type": "markdown",
     "checksum": "eddc8826810e4a6f7bf68319da334bd9",
     "grade": false,
     "grade_id": "cell-109006d425e5cf83",
     "locked": true,
     "schema_version": 3,
     "solution": false,
     "task": false
    },
    "tags": []
   },
   "source": [
    "---"
   ]
  },
  {
   "cell_type": "markdown",
   "id": "fddd8c2b-b2a2-48b3-82f2-856c36d26df8",
   "metadata": {
    "deletable": false,
    "editable": false,
    "nbgrader": {
     "cell_type": "markdown",
     "checksum": "e89c87e48f3389a25e1a25e1b8455e00",
     "grade": false,
     "grade_id": "cell-9a513ed6c5023d43",
     "locked": true,
     "schema_version": 3,
     "solution": false,
     "task": false
    },
    "tags": []
   },
   "source": [
    "# Zestaw zadań 1: Rozkłady zmiennych losowych dyskretnych"
   ]
  },
  {
   "cell_type": "code",
   "execution_count": 1,
   "id": "b4239d48-f558-4ff1-8652-04d435c12b92",
   "metadata": {
    "deletable": false,
    "editable": false,
    "nbgrader": {
     "cell_type": "code",
     "checksum": "b81afb5014813df6ab0ffa19ea9ac4a4",
     "grade": false,
     "grade_id": "cell-94e85d6f2e90b5a1",
     "locked": true,
     "schema_version": 3,
     "solution": false,
     "task": false
    },
    "tags": []
   },
   "outputs": [],
   "source": [
    "import numpy as np\n",
    "import pandas as pd\n",
    "import scipy as sp\n",
    "import matplotlib.pyplot as plt"
   ]
  },
  {
   "cell_type": "code",
   "execution_count": 2,
   "id": "c8f7dd57-b759-4f59-93d4-d891dd445c10",
   "metadata": {},
   "outputs": [],
   "source": [
    "# Miejsce do importu pakietów wchodzących w skład standardowej biblioteki Pythona oraz ustawienie opcji wykorzystywanych pakietów\n",
    "import math"
   ]
  },
  {
   "cell_type": "markdown",
   "id": "e77bbc8d-b5cf-406f-8408-90b531eca23a",
   "metadata": {
    "deletable": false,
    "editable": false,
    "nbgrader": {
     "cell_type": "markdown",
     "checksum": "0f2cb3018703b6dc2be7f85cb9189dfc",
     "grade": false,
     "grade_id": "cell-ec82bb1fd676ed14",
     "locked": true,
     "schema_version": 3,
     "solution": false,
     "task": false
    },
    "tags": []
   },
   "source": [
    "### Funkcje do wykorzystania"
   ]
  },
  {
   "cell_type": "code",
   "execution_count": 3,
   "id": "aafd94a5-88a8-48ca-b16e-e30f9ac9b98d",
   "metadata": {
    "deletable": false,
    "editable": false,
    "nbgrader": {
     "cell_type": "code",
     "checksum": "de97f9f0e8a50e727a66b3156a2886d1",
     "grade": false,
     "grade_id": "cell-4cd78b371f6cffaf",
     "locked": true,
     "schema_version": 3,
     "solution": false,
     "task": false
    },
    "tags": []
   },
   "outputs": [],
   "source": [
    "def vizualize_discrete_distribution(pmf, cdf, mask=None):\n",
    "    \"\"\"\n",
    "    Parameters\n",
    "    -------\n",
    "    pmf: pandas.DataFrame\n",
    "        Tablica zawierająca indeks z wariantami zmiennej losowej i nadaną nazwą (np. x) oraz pojedynczą kolumnę\n",
    "        z prawdopodobieństwami poszczególnych wariantów o nadanej nazwie bazującej na nazwie zmiennej (np. P(X=x)).\n",
    "    cdf: pandas.DataFrame\n",
    "        Tablica zawierająca index w formacie pandas.IntervalIndex z przedziałami wartości zmiennej losowej i nadaną nazwą (np. x)\n",
    "        oraz pojedynczą kolumnę wartościami dystrybuanty dla poszczególnych przedziałów o nadanej nazwie bazującej na nazwie zmiennej (np. F(x)).\n",
    "    mask: numpy.ndarray\n",
    "        Macierz logiczna 1D określająca, które z wariantów zmiennej losowej spełniają wizualizowaną nierówność, a które nie.\n",
    "    \"\"\"\n",
    "\n",
    "    pmf_name = pmf.columns[0]\n",
    "    pmf_plot = pmf.copy(deep=True)\n",
    "    \n",
    "    cdf_name = cdf.columns[0]\n",
    "    cdf_index = cdf.index.copy(deep=True)\n",
    "    cdf_index_range = cdf.index[-1].left - cdf.index[0].right\n",
    "    cdf_index.values[0] = pd.Interval(cdf.index[0].right - 0.1*cdf_index_range, cdf.index[0].right, closed=cdf.index.closed)\n",
    "    cdf_index.values[-1] = pd.Interval(cdf.index[-1].left, cdf.index[-1].left + 0.1*cdf_index_range, closed=cdf.index.closed)\n",
    "    cdf_plot = pd.DataFrame(data=cdf.values, index=cdf_index, columns=[cdf_name])\n",
    "    cdf_plot.index.name = cdf.index.name\n",
    "    \n",
    "    fig, axes = plt.subplots(1, 2, figsize=(10, 5), facecolor='white')\n",
    "\n",
    "    fig.suptitle(\"Rozkład prawdopodobieństwa i dystrybuanta zmiennej losowej dyskretnej\")\n",
    "\n",
    "    if mask is None:\n",
    "        axes[0].scatter(pmf.index, pmf_plot[pmf_name], color=\"blue\")\n",
    "        axes[0].vlines(pmf.index, 0, pmf_plot[pmf_name], color=\"blue\")\n",
    "    else:\n",
    "        axes[0].scatter(pmf.index[~mask], pmf_plot[pmf_name][~mask], color=\"red\")\n",
    "        axes[0].scatter(pmf.index[mask], pmf_plot[pmf_name][mask], color=\"green\")\n",
    "        axes[0].vlines(pmf.index[~mask], 0, pmf_plot[pmf_name][~mask], color=\"red\")\n",
    "        axes[0].vlines(pmf.index[mask], 0, pmf_plot[pmf_name][mask], color=\"green\")\n",
    "    axes[0].set_title(\"Rozkład prawdopodobieństwa\")\n",
    "    axes[0].set_xlabel(pmf_plot.index.name)\n",
    "    axes[0].set_ylabel(pmf_name)\n",
    "\n",
    "    axes[1].hlines(cdf_plot[cdf_name], cdf_plot.index.left, cdf_plot.index.right, color=\"grey\")\n",
    "    axes[1].scatter(cdf_plot.index.left[1:], cdf_plot[cdf_name][1:], color=\"grey\")\n",
    "    axes[1].scatter(cdf_plot.index.right[:-1], cdf_plot[cdf_name][:-1], color='white', edgecolor=\"grey\")\n",
    "    axes[1].set_title(\"Dystrybuanta\")\n",
    "    axes[1].set_xlabel(cdf_plot.index.name)\n",
    "    axes[1].set_ylabel(cdf_name)"
   ]
  },
  {
   "cell_type": "markdown",
   "id": "90a4c504-c70c-47b8-b0d7-4775db3c3912",
   "metadata": {
    "deletable": false,
    "editable": false,
    "nbgrader": {
     "cell_type": "markdown",
     "checksum": "2ea28bfe349833ab5388e3fc3cd505dd",
     "grade": false,
     "grade_id": "cell-ff1a89d89494105f",
     "locked": true,
     "schema_version": 3,
     "solution": false,
     "task": false
    },
    "tags": []
   },
   "source": [
    "### Zadanie 1: Przykładowy dyskretny rozkład prawdopodobieństwa [10 pkt]\n",
    "Zmienna losowa X ma funkcję rozkładu prawdopodobieństwa daną wzorem:\n",
    "\n",
    "$$P(X=x) = \\begin{cases}\n",
    "0.1\\text{ dla }x=1\\\\\n",
    "0.05\\text{ dla }x=3\\\\\n",
    "0.15\\text{ dla }x=5\\\\\n",
    "0.25\\text{ dla }x=7\\\\\n",
    "0.2\\text{ dla }x=9\\\\\n",
    "0.15\\text{ dla }x=11\\\\\n",
    "0.1\\text{ dla }x=13\\\\\n",
    "\\end{cases}$$\n",
    "\n",
    "#### a) Funkcja rozkładu prawdopodobieństwa w formie tabelarycznej\n",
    "\n",
    "Przedstaw funkcję rozkładu prawdopodobieństwa zmiennej losowej X w formie tablicy `r1p` o następującej strukturze:\n",
    "\n",
    "> Indeks:</br>\n",
    "> x - warianty przyjmowane przez zmienną X.</br>\n",
    "\n",
    "> Kolumny:</br>\n",
    "> P(X=x) - prawdopodobieństwo poszczególnych wariantów."
   ]
  },
  {
   "cell_type": "code",
   "execution_count": 4,
   "id": "cbc11a19-4452-48c1-9c8a-810b60743e71",
   "metadata": {
    "deletable": false,
    "nbgrader": {
     "cell_type": "code",
     "checksum": "521fec471af8fc03b0f3fa75aa2b6fbb",
     "grade": false,
     "grade_id": "cell-c241f94316726287",
     "locked": false,
     "schema_version": 3,
     "solution": true,
     "task": false
    },
    "tags": []
   },
   "outputs": [
    {
     "data": {
      "text/html": [
       "<div>\n",
       "<style scoped>\n",
       "    .dataframe tbody tr th:only-of-type {\n",
       "        vertical-align: middle;\n",
       "    }\n",
       "\n",
       "    .dataframe tbody tr th {\n",
       "        vertical-align: top;\n",
       "    }\n",
       "\n",
       "    .dataframe thead th {\n",
       "        text-align: right;\n",
       "    }\n",
       "</style>\n",
       "<table border=\"1\" class=\"dataframe\">\n",
       "  <thead>\n",
       "    <tr style=\"text-align: right;\">\n",
       "      <th></th>\n",
       "      <th>P(X=x)</th>\n",
       "    </tr>\n",
       "    <tr>\n",
       "      <th>x</th>\n",
       "      <th></th>\n",
       "    </tr>\n",
       "  </thead>\n",
       "  <tbody>\n",
       "    <tr>\n",
       "      <th>1</th>\n",
       "      <td>0.10</td>\n",
       "    </tr>\n",
       "    <tr>\n",
       "      <th>3</th>\n",
       "      <td>0.05</td>\n",
       "    </tr>\n",
       "    <tr>\n",
       "      <th>5</th>\n",
       "      <td>0.15</td>\n",
       "    </tr>\n",
       "    <tr>\n",
       "      <th>7</th>\n",
       "      <td>0.25</td>\n",
       "    </tr>\n",
       "    <tr>\n",
       "      <th>9</th>\n",
       "      <td>0.20</td>\n",
       "    </tr>\n",
       "    <tr>\n",
       "      <th>11</th>\n",
       "      <td>0.15</td>\n",
       "    </tr>\n",
       "    <tr>\n",
       "      <th>13</th>\n",
       "      <td>0.10</td>\n",
       "    </tr>\n",
       "  </tbody>\n",
       "</table>\n",
       "</div>"
      ],
      "text/plain": [
       "    P(X=x)\n",
       "x         \n",
       "1     0.10\n",
       "3     0.05\n",
       "5     0.15\n",
       "7     0.25\n",
       "9     0.20\n",
       "11    0.15\n",
       "13    0.10"
      ]
     },
     "execution_count": 4,
     "metadata": {},
     "output_type": "execute_result"
    }
   ],
   "source": [
    "x_prob =  np.array( ( 0.1, 0.05, 0.15, 0.25, 0.2, 0.15, 0.1 ) )\n",
    "x_var = np.array( ( 1,3,5,7,9,11,13 ) )\n",
    "r1p = pd.DataFrame(\n",
    "    data = x_prob,\n",
    "    index = x_var,\n",
    "    columns = [\"P(X=x)\"]\n",
    ")\n",
    "r1p.index.name = \"x\"\n",
    "r1p"
   ]
  },
  {
   "cell_type": "code",
   "execution_count": 5,
   "id": "9e6788af-fc12-4893-81c5-67211ac080cf",
   "metadata": {
    "deletable": false,
    "editable": false,
    "nbgrader": {
     "cell_type": "code",
     "checksum": "ac9cf917babc61c4d8074575382f2d29",
     "grade": true,
     "grade_id": "cell-5744391b1b1ff963",
     "locked": true,
     "points": 2,
     "schema_version": 3,
     "solution": false,
     "task": false
    },
    "tags": []
   },
   "outputs": [],
   "source": [
    "# Komórka testowa\n",
    "assert type(r1p) == pd.DataFrame\n",
    "assert r1p.shape == (7, 1)\n",
    "assert list(r1p.columns) == [\"P(X=x)\"]\n",
    "assert r1p.index.name == \"x\"\n",
    "assert np.isclose(np.sum(r1p.index.values), 49)\n",
    "assert np.isclose(np.sum(r1p[\"P(X=x)\"]), 1)"
   ]
  },
  {
   "cell_type": "markdown",
   "id": "316717d4-082e-4250-b665-1407c6997e50",
   "metadata": {
    "deletable": false,
    "editable": false,
    "nbgrader": {
     "cell_type": "markdown",
     "checksum": "521b2a9d82454ecc3f309e10a2d5a3ac",
     "grade": false,
     "grade_id": "cell-cf7af2f6bf89704a",
     "locked": true,
     "schema_version": 3,
     "solution": false,
     "task": false
    },
    "tags": []
   },
   "source": [
    "#### b) Dystrybuanta w formie tabelarycznej\n",
    "\n",
    "Przedstaw dystrybuantę zmiennej losowej X w formie tablicy `r1f` o następującej strukturze:\n",
    "\n",
    "> Indeks:</br>\n",
    "> x - przedziały, w których wartość dystrybuanty jest stała przedstawione jako `pandas.IntervalIndex`.</br>\n",
    "\n",
    "> Kolumny:</br>\n",
    "> F(x) -wartości dystrybuanty wyliczone dla poszczególnych przedziałów.\n",
    "\n",
    "Uwagi do wykonania zadania:\n",
    " - Przedziały wartości zdefiniuj jako `pandas.IntervalIndex` za pomocą jednej z metod tej klasy  -  `from_array()`, `from_tuples()` lub `from_breaks()`."
   ]
  },
  {
   "cell_type": "code",
   "execution_count": 6,
   "id": "42e80518-2e5e-4b67-85e5-87d45d55050c",
   "metadata": {
    "deletable": false,
    "nbgrader": {
     "cell_type": "code",
     "checksum": "41ef9020d8548926b471739daa450af1",
     "grade": false,
     "grade_id": "cell-7950811615668175",
     "locked": false,
     "schema_version": 3,
     "solution": true,
     "task": false
    },
    "tags": []
   },
   "outputs": [
    {
     "data": {
      "text/html": [
       "<div>\n",
       "<style scoped>\n",
       "    .dataframe tbody tr th:only-of-type {\n",
       "        vertical-align: middle;\n",
       "    }\n",
       "\n",
       "    .dataframe tbody tr th {\n",
       "        vertical-align: top;\n",
       "    }\n",
       "\n",
       "    .dataframe thead th {\n",
       "        text-align: right;\n",
       "    }\n",
       "</style>\n",
       "<table border=\"1\" class=\"dataframe\">\n",
       "  <thead>\n",
       "    <tr style=\"text-align: right;\">\n",
       "      <th></th>\n",
       "      <th>F(x)</th>\n",
       "    </tr>\n",
       "    <tr>\n",
       "      <th>x</th>\n",
       "      <th></th>\n",
       "    </tr>\n",
       "  </thead>\n",
       "  <tbody>\n",
       "    <tr>\n",
       "      <th>[-inf, 1.0)</th>\n",
       "      <td>0.00</td>\n",
       "    </tr>\n",
       "    <tr>\n",
       "      <th>[1.0, 3.0)</th>\n",
       "      <td>0.10</td>\n",
       "    </tr>\n",
       "    <tr>\n",
       "      <th>[3.0, 5.0)</th>\n",
       "      <td>0.15</td>\n",
       "    </tr>\n",
       "    <tr>\n",
       "      <th>[5.0, 7.0)</th>\n",
       "      <td>0.30</td>\n",
       "    </tr>\n",
       "    <tr>\n",
       "      <th>[7.0, 9.0)</th>\n",
       "      <td>0.55</td>\n",
       "    </tr>\n",
       "    <tr>\n",
       "      <th>[9.0, 11.0)</th>\n",
       "      <td>0.75</td>\n",
       "    </tr>\n",
       "    <tr>\n",
       "      <th>[11.0, 13.0)</th>\n",
       "      <td>0.90</td>\n",
       "    </tr>\n",
       "    <tr>\n",
       "      <th>[13.0, inf)</th>\n",
       "      <td>1.00</td>\n",
       "    </tr>\n",
       "  </tbody>\n",
       "</table>\n",
       "</div>"
      ],
      "text/plain": [
       "              F(x)\n",
       "x                 \n",
       "[-inf, 1.0)   0.00\n",
       "[1.0, 3.0)    0.10\n",
       "[3.0, 5.0)    0.15\n",
       "[5.0, 7.0)    0.30\n",
       "[7.0, 9.0)    0.55\n",
       "[9.0, 11.0)   0.75\n",
       "[11.0, 13.0)  0.90\n",
       "[13.0, inf)   1.00"
      ]
     },
     "execution_count": 6,
     "metadata": {},
     "output_type": "execute_result"
    }
   ],
   "source": [
    "x_intervals = pd.IntervalIndex.from_breaks(\n",
    "    breaks = np.hstack( [-np.inf, r1p.index, np.inf] ),\n",
    "    closed = \"left\"\n",
    ")\n",
    "\n",
    "x_cumu_prob = np.hstack( [0, np.cumsum( r1p[\"P(X=x)\"].values )] )\n",
    "\n",
    "r1f = pd.DataFrame(\n",
    "    data = x_cumu_prob,\n",
    "    index = x_intervals,\n",
    "    columns = [\"F(x)\"]\n",
    ")\n",
    "r1f.index.name = \"x\"\n",
    "r1f"
   ]
  },
  {
   "cell_type": "code",
   "execution_count": 7,
   "id": "9cb134f4-ea88-48e9-9858-ec3a8bf61c12",
   "metadata": {
    "deletable": false,
    "editable": false,
    "nbgrader": {
     "cell_type": "code",
     "checksum": "db506612e7baf026aa7fe9f6a4a366c9",
     "grade": true,
     "grade_id": "cell-eea660fd902ebf84",
     "locked": true,
     "points": 2,
     "schema_version": 3,
     "solution": false,
     "task": false
    },
    "tags": []
   },
   "outputs": [],
   "source": [
    "# Komórka testowa\n",
    "assert type(r1f) == pd.DataFrame\n",
    "assert r1f.shape == (8, 1)\n",
    "assert list(r1f.columns) == [\"F(x)\"]\n",
    "assert r1f.index.name == \"x\"\n",
    "assert type(r1f.index) == pd.core.indexes.interval.IntervalIndex\n",
    "assert r1f.index.closed == 'left'\n",
    "assert np.isclose(r1f[\"F(x)\"].min(), 0.0)\n",
    "assert np.isclose(r1f[\"F(x)\"].max(), 1.0)"
   ]
  },
  {
   "cell_type": "markdown",
   "id": "730ec47c-6840-4192-96c0-17cb7b4659b3",
   "metadata": {
    "deletable": false,
    "editable": false,
    "nbgrader": {
     "cell_type": "markdown",
     "checksum": "15a5dbe204c35b6c397306da279c7570",
     "grade": false,
     "grade_id": "cell-7a1400bc12439fab",
     "locked": true,
     "schema_version": 3,
     "solution": false,
     "task": false
    },
    "tags": []
   },
   "source": [
    "#### c) Wizualizacja rozkładu prawdopodobieństwa i dystrybuanty\n",
    "\n",
    "Wykorzystaj funkcję `vizualize_discrete_distribution()` do przedstawienia rozkładu prawdopodobieństwa oraz dystrybuanty rozkładu zmiennej losowej X w formie wykresów."
   ]
  },
  {
   "cell_type": "code",
   "execution_count": 8,
   "id": "e11f3808-3ad0-46c2-98fa-404470131906",
   "metadata": {
    "deletable": false,
    "nbgrader": {
     "cell_type": "code",
     "checksum": "3a36c922d31bfbc7f253c13da8652632",
     "grade": true,
     "grade_id": "cell-0de671590f1d980c",
     "locked": false,
     "points": 1,
     "schema_version": 3,
     "solution": true,
     "task": false
    },
    "tags": []
   },
   "outputs": [
    {
     "data": {
      "image/png": "[encoded data removed]",
      "text/plain": [
       "<Figure size 1000x500 with 2 Axes>"
      ]
     },
     "metadata": {},
     "output_type": "display_data"
    }
   ],
   "source": [
    "vizualize_discrete_distribution( r1p, r1f )"
   ]
  },
  {
   "cell_type": "markdown",
   "id": "34aafac3-749e-4075-9ff8-af61ff5f8a61",
   "metadata": {
    "deletable": false,
    "editable": false,
    "nbgrader": {
     "cell_type": "markdown",
     "checksum": "8ace8857a5e12ab73d2566a5519472c3",
     "grade": false,
     "grade_id": "cell-df9820e81f34b091",
     "locked": true,
     "schema_version": 3,
     "solution": false,
     "task": false
    },
    "tags": []
   },
   "source": [
    "#### d) Podstawowe parametry rozkładu\n",
    "\n",
    "Oblicz i zapisz do zmiennych następujące parametry rozkładu zmiennej losowej X - wartość średnia (`r1_mean`), wariancja (`r1_var`) i odchylenie standardowe (`r1_std`)."
   ]
  },
  {
   "cell_type": "code",
   "execution_count": 9,
   "id": "26338cde-8849-4ce2-9777-40c6dc44f100",
   "metadata": {
    "deletable": false,
    "nbgrader": {
     "cell_type": "code",
     "checksum": "7d9a82b24c7203e930a90df253bf7b3c",
     "grade": false,
     "grade_id": "cell-490eeda6af1a76d3",
     "locked": false,
     "schema_version": 3,
     "solution": true,
     "task": false
    },
    "tags": []
   },
   "outputs": [
    {
     "data": {
      "text/plain": [
       "7.499999999999999"
      ]
     },
     "execution_count": 9,
     "metadata": {},
     "output_type": "execute_result"
    }
   ],
   "source": [
    "# Srednia\n",
    "r1_mean = 0\n",
    "for i in range( len( x_var ) ):\n",
    "    r1_mean += x_var[i] * x_prob[i]\n",
    "r1_mean"
   ]
  },
  {
   "cell_type": "code",
   "execution_count": 10,
   "id": "411d643b-6987-4dd7-8286-0091ebd7fae6",
   "metadata": {
    "deletable": false,
    "nbgrader": {
     "cell_type": "code",
     "checksum": "f46934e71ea8a2db240e629de0a0648f",
     "grade": false,
     "grade_id": "cell-1505f2a428c0f492",
     "locked": false,
     "schema_version": 3,
     "solution": true,
     "task": false
    },
    "tags": []
   },
   "outputs": [
    {
     "data": {
      "text/plain": [
       "11.55"
      ]
     },
     "execution_count": 10,
     "metadata": {},
     "output_type": "execute_result"
    }
   ],
   "source": [
    "# Wariancja\n",
    "r1_var = 0\n",
    "for i in range( len(x_var) ):\n",
    "    r1_var += ( ( x_var[i] - r1_mean )**2 ) * x_prob[i]\n",
    "r1_var"
   ]
  },
  {
   "cell_type": "code",
   "execution_count": 11,
   "id": "6e5e2d12-6835-427a-8d3e-cd11f66dc65e",
   "metadata": {
    "deletable": false,
    "nbgrader": {
     "cell_type": "code",
     "checksum": "4ced5fdd4eaa91a6d3b6d8fa3c3dab16",
     "grade": false,
     "grade_id": "cell-1a6f5fe526962c96",
     "locked": false,
     "schema_version": 3,
     "solution": true,
     "task": false
    },
    "tags": []
   },
   "outputs": [
    {
     "data": {
      "text/plain": [
       "3.398529093593286"
      ]
     },
     "execution_count": 11,
     "metadata": {},
     "output_type": "execute_result"
    }
   ],
   "source": [
    "# Odchylenie\n",
    "r1_std = math.sqrt( r1_var )\n",
    "r1_std"
   ]
  },
  {
   "cell_type": "code",
   "execution_count": 12,
   "id": "53ba3a18-526c-43ca-ac38-3dd65b1a43fb",
   "metadata": {
    "deletable": false,
    "editable": false,
    "nbgrader": {
     "cell_type": "code",
     "checksum": "48626067c0657b05bc71fb6d60db2f1a",
     "grade": true,
     "grade_id": "cell-ffb2b62de24a35cb",
     "locked": true,
     "points": 5,
     "schema_version": 3,
     "solution": false,
     "task": false
    },
    "tags": []
   },
   "outputs": [],
   "source": [
    "# Komórka testowa\n",
    "assert np.isclose(r1_mean, 7.499999999999999)\n",
    "assert np.isclose(r1_var, 11.55)\n",
    "assert np.isclose(r1_std, 3.398529093593286)"
   ]
  },
  {
   "cell_type": "markdown",
   "id": "c229364a-a87b-4108-a2a4-6fe4c32651c6",
   "metadata": {
    "deletable": false,
    "editable": false,
    "nbgrader": {
     "cell_type": "markdown",
     "checksum": "fc00bff5bdb500585cd7d176b1caa244",
     "grade": false,
     "grade_id": "cell-a901ccef5671a1e4",
     "locked": true,
     "schema_version": 3,
     "solution": false,
     "task": false
    },
    "tags": []
   },
   "source": [
    "### Zadanie 2: Rozkład dwumianowy [10 pkt]\n",
    "\n",
    "Zmienna losowa Y ma rozkład dwumianowy z prawdopodobieństwem sukcesu $p=0.5$ i liczbą doświadczeń $n=10$.\n",
    "\n",
    "#### a) Rozkład prawdopodobieństwa w formie tabelarycznej\n",
    "\n",
    "Przedstaw funkcję rozkładu prawdopodobieństwa zmiennej losowej Y w formie tablicy `r2p` o następującej strukturze:\n",
    "\n",
    "> Indeks:</br>\n",
    "> y - warianty przyjmowane przez zmienną Y.</br>\n",
    "\n",
    "> Kolumny:</br>\n",
    "> P(Y=y) - prawdopodobieństwo poszczególnych wariantów.\n",
    "\n",
    "Uwagi do wykonania zadania:\n",
    " - Warianty przyjmowane przez zmienną Y wygeneruj za pomocą funkcji `numpy.linspace()` lub `numpy.arange()`.\n",
    " - Wartości prawdopodobieństwa poszczególnych wariantów oblicz za pomocą odpowiedniej funkcji z modułu `scipy.stats.binom`."
   ]
  },
  {
   "cell_type": "code",
   "execution_count": 13,
   "id": "8458a692-fbec-4bf8-8452-6c941f3d66d8",
   "metadata": {
    "deletable": false,
    "nbgrader": {
     "cell_type": "code",
     "checksum": "47e7f306636ae28bff97e8ede35222ec",
     "grade": false,
     "grade_id": "cell-25e306a8a476bb7c",
     "locked": false,
     "schema_version": 3,
     "solution": true,
     "task": false
    },
    "tags": []
   },
   "outputs": [
    {
     "data": {
      "text/html": [
       "<div>\n",
       "<style scoped>\n",
       "    .dataframe tbody tr th:only-of-type {\n",
       "        vertical-align: middle;\n",
       "    }\n",
       "\n",
       "    .dataframe tbody tr th {\n",
       "        vertical-align: top;\n",
       "    }\n",
       "\n",
       "    .dataframe thead th {\n",
       "        text-align: right;\n",
       "    }\n",
       "</style>\n",
       "<table border=\"1\" class=\"dataframe\">\n",
       "  <thead>\n",
       "    <tr style=\"text-align: right;\">\n",
       "      <th></th>\n",
       "      <th>P(Y=y)</th>\n",
       "    </tr>\n",
       "    <tr>\n",
       "      <th>y</th>\n",
       "      <th></th>\n",
       "    </tr>\n",
       "  </thead>\n",
       "  <tbody>\n",
       "    <tr>\n",
       "      <th>0</th>\n",
       "      <td>0.000977</td>\n",
       "    </tr>\n",
       "    <tr>\n",
       "      <th>1</th>\n",
       "      <td>0.009766</td>\n",
       "    </tr>\n",
       "    <tr>\n",
       "      <th>2</th>\n",
       "      <td>0.043945</td>\n",
       "    </tr>\n",
       "    <tr>\n",
       "      <th>3</th>\n",
       "      <td>0.117187</td>\n",
       "    </tr>\n",
       "    <tr>\n",
       "      <th>4</th>\n",
       "      <td>0.205078</td>\n",
       "    </tr>\n",
       "    <tr>\n",
       "      <th>5</th>\n",
       "      <td>0.246094</td>\n",
       "    </tr>\n",
       "    <tr>\n",
       "      <th>6</th>\n",
       "      <td>0.205078</td>\n",
       "    </tr>\n",
       "    <tr>\n",
       "      <th>7</th>\n",
       "      <td>0.117187</td>\n",
       "    </tr>\n",
       "    <tr>\n",
       "      <th>8</th>\n",
       "      <td>0.043945</td>\n",
       "    </tr>\n",
       "    <tr>\n",
       "      <th>9</th>\n",
       "      <td>0.009766</td>\n",
       "    </tr>\n",
       "    <tr>\n",
       "      <th>10</th>\n",
       "      <td>0.000977</td>\n",
       "    </tr>\n",
       "  </tbody>\n",
       "</table>\n",
       "</div>"
      ],
      "text/plain": [
       "      P(Y=y)\n",
       "y           \n",
       "0   0.000977\n",
       "1   0.009766\n",
       "2   0.043945\n",
       "3   0.117187\n",
       "4   0.205078\n",
       "5   0.246094\n",
       "6   0.205078\n",
       "7   0.117187\n",
       "8   0.043945\n",
       "9   0.009766\n",
       "10  0.000977"
      ]
     },
     "execution_count": 13,
     "metadata": {},
     "output_type": "execute_result"
    }
   ],
   "source": [
    "r2_variants = np.arange(11)\n",
    "r2_probabilities = sp.stats.binom.pmf(r2_variants,10,0.5)\n",
    "r2p = pd.DataFrame(data=r2_probabilities, index=r2_variants, columns=[\"P(Y=y)\"])\n",
    "r2p.index.name=\"y\"\n",
    "r2p"
   ]
  },
  {
   "cell_type": "code",
   "execution_count": 14,
   "id": "0c0b16de-8e8f-4ccb-816e-8dcd9ed4e306",
   "metadata": {
    "deletable": false,
    "editable": false,
    "nbgrader": {
     "cell_type": "code",
     "checksum": "0487cd60f0f4ee8a922eafd10de2b661",
     "grade": true,
     "grade_id": "cell-0ad0674f2f9be6c4",
     "locked": true,
     "points": 3,
     "schema_version": 3,
     "solution": false,
     "task": false
    },
    "tags": []
   },
   "outputs": [],
   "source": [
    "# Komórka testowa\n",
    "assert type(r2p) == pd.DataFrame\n",
    "assert r2p.shape == (11, 1)\n",
    "assert list(r2p.columns) == [\"P(Y=y)\"]\n",
    "assert r2p.index.name == \"y\"\n",
    "assert np.isclose(np.sum(r2p.index.values), 55)\n",
    "assert np.isclose(np.sum(r2p[\"P(Y=y)\"]), 1.0)"
   ]
  },
  {
   "cell_type": "markdown",
   "id": "f5295a8b-dec7-4e4b-ba9b-312a10f51a6a",
   "metadata": {
    "deletable": false,
    "editable": false,
    "nbgrader": {
     "cell_type": "markdown",
     "checksum": "e0d96970bbdbe16620b8179132ab8fa7",
     "grade": false,
     "grade_id": "cell-5f80d6db2b36bb9a",
     "locked": true,
     "schema_version": 3,
     "solution": false,
     "task": false
    },
    "tags": []
   },
   "source": [
    "#### b) Dystrybuanta w formie tabelarycznej\n",
    "\n",
    "Przedstaw dystrybuantę zmiennej losowej Y w formie tablicy `r2f` o następującej strukturze:\n",
    "\n",
    "> Indeks:</br>\n",
    ">  y - przedziały, w których wartość dystrybuanty jest stała przedstawione jako `pandas.IntervalIndex`.</br>\n",
    "\n",
    "> Kolumny:</br>\n",
    "> F(y) - wartości dystrybuanty wyliczone dla poszczególnych przedziałów.\n",
    "\n",
    "Uwagi do wykonania zadania:\n",
    " - Przedziały wartości zdefiniuj jako `pandas.IntervalIndex` za pomocą jednej z metod tej klasy  -  `from_array()`, `from_tuples()` lub `from_breaks()`.\n",
    " - Wartości prawdopodobieństwa poszczególnych przedziałów oblicz za pomocą odpowiedniej funkcji z modułu `scipy.stats.binom`."
   ]
  },
  {
   "cell_type": "code",
   "execution_count": 15,
   "id": "3be8c3a0-56f7-4079-9fb7-6bb5657aa92d",
   "metadata": {
    "deletable": false,
    "nbgrader": {
     "cell_type": "code",
     "checksum": "474616ce825eae9ad32875a2c6753795",
     "grade": false,
     "grade_id": "cell-009b26cd4a8966ba",
     "locked": false,
     "schema_version": 3,
     "solution": true,
     "task": false
    },
    "tags": []
   },
   "outputs": [
    {
     "data": {
      "text/html": [
       "<div>\n",
       "<style scoped>\n",
       "    .dataframe tbody tr th:only-of-type {\n",
       "        vertical-align: middle;\n",
       "    }\n",
       "\n",
       "    .dataframe tbody tr th {\n",
       "        vertical-align: top;\n",
       "    }\n",
       "\n",
       "    .dataframe thead th {\n",
       "        text-align: right;\n",
       "    }\n",
       "</style>\n",
       "<table border=\"1\" class=\"dataframe\">\n",
       "  <thead>\n",
       "    <tr style=\"text-align: right;\">\n",
       "      <th></th>\n",
       "      <th>F(y)</th>\n",
       "    </tr>\n",
       "    <tr>\n",
       "      <th>y</th>\n",
       "      <th></th>\n",
       "    </tr>\n",
       "  </thead>\n",
       "  <tbody>\n",
       "    <tr>\n",
       "      <th>[-inf, 0.0)</th>\n",
       "      <td>0.000000</td>\n",
       "    </tr>\n",
       "    <tr>\n",
       "      <th>[0.0, 1.0)</th>\n",
       "      <td>0.000977</td>\n",
       "    </tr>\n",
       "    <tr>\n",
       "      <th>[1.0, 2.0)</th>\n",
       "      <td>0.010742</td>\n",
       "    </tr>\n",
       "    <tr>\n",
       "      <th>[2.0, 3.0)</th>\n",
       "      <td>0.054688</td>\n",
       "    </tr>\n",
       "    <tr>\n",
       "      <th>[3.0, 4.0)</th>\n",
       "      <td>0.171875</td>\n",
       "    </tr>\n",
       "    <tr>\n",
       "      <th>[4.0, 5.0)</th>\n",
       "      <td>0.376953</td>\n",
       "    </tr>\n",
       "    <tr>\n",
       "      <th>[5.0, 6.0)</th>\n",
       "      <td>0.623047</td>\n",
       "    </tr>\n",
       "    <tr>\n",
       "      <th>[6.0, 7.0)</th>\n",
       "      <td>0.828125</td>\n",
       "    </tr>\n",
       "    <tr>\n",
       "      <th>[7.0, 8.0)</th>\n",
       "      <td>0.945312</td>\n",
       "    </tr>\n",
       "    <tr>\n",
       "      <th>[8.0, 9.0)</th>\n",
       "      <td>0.989258</td>\n",
       "    </tr>\n",
       "    <tr>\n",
       "      <th>[9.0, 10.0)</th>\n",
       "      <td>0.999023</td>\n",
       "    </tr>\n",
       "    <tr>\n",
       "      <th>[10.0, inf)</th>\n",
       "      <td>1.000000</td>\n",
       "    </tr>\n",
       "  </tbody>\n",
       "</table>\n",
       "</div>"
      ],
      "text/plain": [
       "                 F(y)\n",
       "y                    \n",
       "[-inf, 0.0)  0.000000\n",
       "[0.0, 1.0)   0.000977\n",
       "[1.0, 2.0)   0.010742\n",
       "[2.0, 3.0)   0.054688\n",
       "[3.0, 4.0)   0.171875\n",
       "[4.0, 5.0)   0.376953\n",
       "[5.0, 6.0)   0.623047\n",
       "[6.0, 7.0)   0.828125\n",
       "[7.0, 8.0)   0.945312\n",
       "[8.0, 9.0)   0.989258\n",
       "[9.0, 10.0)  0.999023\n",
       "[10.0, inf)  1.000000"
      ]
     },
     "execution_count": 15,
     "metadata": {},
     "output_type": "execute_result"
    }
   ],
   "source": [
    "r2_breaks = np.hstack([-np.inf,r2p.index,np.inf])\n",
    "r2_intervals = pd.IntervalIndex.from_breaks(r2_breaks, closed=\"left\")\n",
    "\n",
    "r2_cumulative_probabilities=sp.stats.binom.cdf(r2_variants,10,0.5)\n",
    "r2_cumulative_probabilities = np.hstack([0, r2_cumulative_probabilities])\n",
    "\n",
    "r2f= pd.DataFrame(data=r2_cumulative_probabilities,index=r2_intervals,columns=[\"F(y)\"])\n",
    "r2f.index.name=\"y\"\n",
    "r2f"
   ]
  },
  {
   "cell_type": "code",
   "execution_count": 16,
   "id": "7485a6bd-2230-4bc9-abd0-91b63fedc61e",
   "metadata": {
    "deletable": false,
    "editable": false,
    "nbgrader": {
     "cell_type": "code",
     "checksum": "96b9288432ba0eb2c9d494ad313d1369",
     "grade": true,
     "grade_id": "cell-3e1fadf875f727c7",
     "locked": true,
     "points": 3,
     "schema_version": 3,
     "solution": false,
     "task": false
    },
    "tags": []
   },
   "outputs": [],
   "source": [
    "# Komórka testowa\n",
    "assert type(r2f) == pd.DataFrame\n",
    "assert r2f.shape == (12, 1)\n",
    "assert list(r2f.columns) == [\"F(y)\"]\n",
    "assert r2f.index.name == \"y\"\n",
    "assert type(r2f.index) == pd.core.indexes.interval.IntervalIndex\n",
    "assert r2f.index.closed == 'left'\n",
    "assert np.isclose(r2f[\"F(y)\"].min(), 0.0)\n",
    "assert np.isclose(r2f[\"F(y)\"].max(), 1.0)"
   ]
  },
  {
   "cell_type": "markdown",
   "id": "ecbedb2b-3345-463e-90ca-311bc55f1051",
   "metadata": {
    "deletable": false,
    "editable": false,
    "nbgrader": {
     "cell_type": "markdown",
     "checksum": "2c53fa3f6d33b2836d55c4d858eb9877",
     "grade": false,
     "grade_id": "cell-845bdfa45d4df4c3",
     "locked": true,
     "schema_version": 3,
     "solution": false,
     "task": false
    },
    "tags": []
   },
   "source": [
    "#### c) Wizualizacja rozkładu prawdopodobieństwa i dystrybuanty\n",
    "\n",
    "Wykorzystaj funkcję `vizualize_discrete_distribution()` do przedstawienia rozkładu prawdopodobieństwa oraz dystrybuanty rozkładu zmiennej losowej Y w formie wykresów."
   ]
  },
  {
   "cell_type": "code",
   "execution_count": 17,
   "id": "cc216747-fc6d-4704-805a-155cade3778f",
   "metadata": {
    "deletable": false,
    "nbgrader": {
     "cell_type": "code",
     "checksum": "c46e4ae74a4ead0635c92bbfcc78d485",
     "grade": true,
     "grade_id": "cell-ca9b37bcd038329e",
     "locked": false,
     "points": 1,
     "schema_version": 3,
     "solution": true,
     "task": false
    },
    "tags": []
   },
   "outputs": [
    {
     "data": {
      "image/png": "[encoded data removed]",
      "text/plain": [
       "<Figure size 1000x500 with 2 Axes>"
      ]
     },
     "metadata": {},
     "output_type": "display_data"
    }
   ],
   "source": [
    "vizualize_discrete_distribution(r2p,r2f)"
   ]
  },
  {
   "cell_type": "markdown",
   "id": "8bc64e0f-cc16-4116-8d53-a5f5f82b56f8",
   "metadata": {
    "deletable": false,
    "editable": false,
    "nbgrader": {
     "cell_type": "markdown",
     "checksum": "3a59aca2b13141a1a83e5d8375a27ef5",
     "grade": false,
     "grade_id": "cell-d08ea2254beae142",
     "locked": true,
     "schema_version": 3,
     "solution": false,
     "task": false
    },
    "tags": []
   },
   "source": [
    "#### d) Podstawowe parametry rozkładu\n",
    "\n",
    "Oblicz i zapisz do zmiennych następujące parametry rozkładu zmiennej losowej Y - wartość średnia (`r2_mean`), wariancja(`r2_var`) i odchylenie standardowe (`r2_std`).\n",
    "\n",
    "Uwagi do wykonania zadania:\n",
    " - Wartości poszczególnych parametrów oblicz za pomocą odpowiedniej funkcji z modułu `scipy.stats.binom`."
   ]
  },
  {
   "cell_type": "code",
   "execution_count": 18,
   "id": "f8517e4c-c7e0-4f2f-85eb-0ab9c40621a5",
   "metadata": {
    "deletable": false,
    "nbgrader": {
     "cell_type": "code",
     "checksum": "d18ba5f1c94d9e1d29a0a425f2efb993",
     "grade": false,
     "grade_id": "cell-6b584bba86f368fb",
     "locked": false,
     "schema_version": 3,
     "solution": true,
     "task": false
    },
    "tags": []
   },
   "outputs": [
    {
     "data": {
      "text/plain": [
       "5.0"
      ]
     },
     "execution_count": 18,
     "metadata": {},
     "output_type": "execute_result"
    }
   ],
   "source": [
    "r2_mean = sp.stats.binom.mean(10,0.5)\n",
    "r2_mean"
   ]
  },
  {
   "cell_type": "code",
   "execution_count": 19,
   "id": "e31d9e4e-e10d-43d8-9fe9-4eb221524a6b",
   "metadata": {
    "deletable": false,
    "nbgrader": {
     "cell_type": "code",
     "checksum": "6cef3d4ee9cdc3bfea34c84913a60aa4",
     "grade": false,
     "grade_id": "cell-c55db1a76f4732bd",
     "locked": false,
     "schema_version": 3,
     "solution": true,
     "task": false
    },
    "tags": []
   },
   "outputs": [
    {
     "data": {
      "text/plain": [
       "2.5"
      ]
     },
     "execution_count": 19,
     "metadata": {},
     "output_type": "execute_result"
    }
   ],
   "source": [
    "r2_var = sp.stats.binom.var(10,0.5)\n",
    "r2_var"
   ]
  },
  {
   "cell_type": "code",
   "execution_count": 20,
   "id": "0fd0a8fa-eb89-4a18-8ee3-fefc37ed176c",
   "metadata": {
    "deletable": false,
    "nbgrader": {
     "cell_type": "code",
     "checksum": "5ccd7e5112e1cbab1f1a1dff73eb1131",
     "grade": false,
     "grade_id": "cell-3fc39178fc5c7743",
     "locked": false,
     "schema_version": 3,
     "solution": true,
     "task": false
    },
    "tags": []
   },
   "outputs": [
    {
     "data": {
      "text/plain": [
       "1.5811388300841898"
      ]
     },
     "execution_count": 20,
     "metadata": {},
     "output_type": "execute_result"
    }
   ],
   "source": [
    "r2_std = sp.stats.binom.std(10,0.5)\n",
    "r2_std"
   ]
  },
  {
   "cell_type": "code",
   "execution_count": 21,
   "id": "c9a728bd-efdf-46ec-a407-99dfde649cad",
   "metadata": {
    "deletable": false,
    "editable": false,
    "nbgrader": {
     "cell_type": "code",
     "checksum": "fd69b3f56fa9d89c55b7d1f55dfb8962",
     "grade": true,
     "grade_id": "cell-4084f52ae2f11d49",
     "locked": true,
     "points": 3,
     "schema_version": 3,
     "solution": false,
     "task": false
    },
    "tags": []
   },
   "outputs": [],
   "source": [
    "# Komórka testowa\n",
    "assert np.isclose(r2_mean, 5.0)\n",
    "assert np.isclose(r2_var, 2.5)\n",
    "assert np.isclose(r2_std, 1.5811388300841898)"
   ]
  },
  {
   "cell_type": "markdown",
   "id": "1f981aca-9ee0-4e6b-b7aa-132a0f5a4a96",
   "metadata": {
    "deletable": false,
    "editable": false,
    "nbgrader": {
     "cell_type": "markdown",
     "checksum": "956f995a9c1ce265003be7fdf4868756",
     "grade": false,
     "grade_id": "cell-af80e71296f979a4",
     "locked": true,
     "schema_version": 3,
     "solution": false,
     "task": false
    },
    "tags": []
   },
   "source": [
    "### Zadanie 3: Rozkład Poissona [10 pkt]\n",
    "\n",
    "Zmienna losowa Z ma rozkład Poissona z parametrem $\\lambda=15$.\n",
    "\n",
    "#### a) Rozkład prawdopodobieństwa w formie tabelarycznej\n",
    "\n",
    "Przedstaw funkcję rozkładu prawdopodobieństwa zmiennej losowej Z w formie tablicy `r3p` o następującej strukturze:\n",
    "\n",
    "> Indeks:</br>\n",
    "> z - warianty przyjmowane przez zmienną Z.</br>\n",
    "\n",
    "> Kolumny:</br>\n",
    "> P(Z=z) - prawdopodobieństwo poszczególnych wariantów.\n",
    "\n",
    "W tablicy zawrzyj tylko warianty zmiennej losowej Z od 0 do wartości przy której suma prawdopodobieństw uwzględnionych wariantów przekracza 0.9999.\n",
    "\n",
    "Uwagi do wykonania zadania:\n",
    " - Warianty przyjmowane przez zmienną Z wygeneruj za pomocą funkcji `numpy.linspace()` lub `numpy.arange()`.\n",
    " - Wartości prawdopodobieństwa poszczególnych wariantów oblicz za pomocą odpowiedniej funkcji z modułu `scipy.stats.poisson`."
   ]
  },
  {
   "cell_type": "code",
   "execution_count": 22,
   "id": "b2cf5c01-d53c-47c9-b5d5-6cd79d937717",
   "metadata": {
    "deletable": false,
    "nbgrader": {
     "cell_type": "code",
     "checksum": "7a583468ec3ce70b7100e54ba7661a37",
     "grade": false,
     "grade_id": "cell-e801ec1a2291fde1",
     "locked": false,
     "schema_version": 3,
     "solution": true,
     "task": false
    },
    "tags": []
   },
   "outputs": [
    {
     "data": {
      "text/html": [
       "<div>\n",
       "<style scoped>\n",
       "    .dataframe tbody tr th:only-of-type {\n",
       "        vertical-align: middle;\n",
       "    }\n",
       "\n",
       "    .dataframe tbody tr th {\n",
       "        vertical-align: top;\n",
       "    }\n",
       "\n",
       "    .dataframe thead th {\n",
       "        text-align: right;\n",
       "    }\n",
       "</style>\n",
       "<table border=\"1\" class=\"dataframe\">\n",
       "  <thead>\n",
       "    <tr style=\"text-align: right;\">\n",
       "      <th></th>\n",
       "      <th>P(Z=z)</th>\n",
       "    </tr>\n",
       "    <tr>\n",
       "      <th>z</th>\n",
       "      <th></th>\n",
       "    </tr>\n",
       "  </thead>\n",
       "  <tbody>\n",
       "    <tr>\n",
       "      <th>0.0</th>\n",
       "      <td>3.059023e-07</td>\n",
       "    </tr>\n",
       "    <tr>\n",
       "      <th>1.0</th>\n",
       "      <td>4.588535e-06</td>\n",
       "    </tr>\n",
       "    <tr>\n",
       "      <th>2.0</th>\n",
       "      <td>3.441401e-05</td>\n",
       "    </tr>\n",
       "    <tr>\n",
       "      <th>3.0</th>\n",
       "      <td>1.720701e-04</td>\n",
       "    </tr>\n",
       "    <tr>\n",
       "      <th>4.0</th>\n",
       "      <td>6.452627e-04</td>\n",
       "    </tr>\n",
       "    <tr>\n",
       "      <th>5.0</th>\n",
       "      <td>1.935788e-03</td>\n",
       "    </tr>\n",
       "    <tr>\n",
       "      <th>6.0</th>\n",
       "      <td>4.839470e-03</td>\n",
       "    </tr>\n",
       "    <tr>\n",
       "      <th>7.0</th>\n",
       "      <td>1.037029e-02</td>\n",
       "    </tr>\n",
       "    <tr>\n",
       "      <th>8.0</th>\n",
       "      <td>1.944430e-02</td>\n",
       "    </tr>\n",
       "    <tr>\n",
       "      <th>9.0</th>\n",
       "      <td>3.240717e-02</td>\n",
       "    </tr>\n",
       "    <tr>\n",
       "      <th>10.0</th>\n",
       "      <td>4.861075e-02</td>\n",
       "    </tr>\n",
       "    <tr>\n",
       "      <th>11.0</th>\n",
       "      <td>6.628739e-02</td>\n",
       "    </tr>\n",
       "    <tr>\n",
       "      <th>12.0</th>\n",
       "      <td>8.285923e-02</td>\n",
       "    </tr>\n",
       "    <tr>\n",
       "      <th>13.0</th>\n",
       "      <td>9.560681e-02</td>\n",
       "    </tr>\n",
       "    <tr>\n",
       "      <th>14.0</th>\n",
       "      <td>1.024359e-01</td>\n",
       "    </tr>\n",
       "    <tr>\n",
       "      <th>15.0</th>\n",
       "      <td>1.024359e-01</td>\n",
       "    </tr>\n",
       "    <tr>\n",
       "      <th>16.0</th>\n",
       "      <td>9.603362e-02</td>\n",
       "    </tr>\n",
       "    <tr>\n",
       "      <th>17.0</th>\n",
       "      <td>8.473555e-02</td>\n",
       "    </tr>\n",
       "    <tr>\n",
       "      <th>18.0</th>\n",
       "      <td>7.061296e-02</td>\n",
       "    </tr>\n",
       "    <tr>\n",
       "      <th>19.0</th>\n",
       "      <td>5.574707e-02</td>\n",
       "    </tr>\n",
       "    <tr>\n",
       "      <th>20.0</th>\n",
       "      <td>4.181031e-02</td>\n",
       "    </tr>\n",
       "    <tr>\n",
       "      <th>21.0</th>\n",
       "      <td>2.986450e-02</td>\n",
       "    </tr>\n",
       "    <tr>\n",
       "      <th>22.0</th>\n",
       "      <td>2.036216e-02</td>\n",
       "    </tr>\n",
       "    <tr>\n",
       "      <th>23.0</th>\n",
       "      <td>1.327967e-02</td>\n",
       "    </tr>\n",
       "    <tr>\n",
       "      <th>24.0</th>\n",
       "      <td>8.299794e-03</td>\n",
       "    </tr>\n",
       "    <tr>\n",
       "      <th>25.0</th>\n",
       "      <td>4.979876e-03</td>\n",
       "    </tr>\n",
       "    <tr>\n",
       "      <th>26.0</th>\n",
       "      <td>2.873006e-03</td>\n",
       "    </tr>\n",
       "    <tr>\n",
       "      <th>27.0</th>\n",
       "      <td>1.596114e-03</td>\n",
       "    </tr>\n",
       "    <tr>\n",
       "      <th>28.0</th>\n",
       "      <td>8.550612e-04</td>\n",
       "    </tr>\n",
       "    <tr>\n",
       "      <th>29.0</th>\n",
       "      <td>4.422730e-04</td>\n",
       "    </tr>\n",
       "    <tr>\n",
       "      <th>30.0</th>\n",
       "      <td>2.211365e-04</td>\n",
       "    </tr>\n",
       "    <tr>\n",
       "      <th>31.0</th>\n",
       "      <td>1.070015e-04</td>\n",
       "    </tr>\n",
       "  </tbody>\n",
       "</table>\n",
       "</div>"
      ],
      "text/plain": [
       "            P(Z=z)\n",
       "z                 \n",
       "0.0   3.059023e-07\n",
       "1.0   4.588535e-06\n",
       "2.0   3.441401e-05\n",
       "3.0   1.720701e-04\n",
       "4.0   6.452627e-04\n",
       "5.0   1.935788e-03\n",
       "6.0   4.839470e-03\n",
       "7.0   1.037029e-02\n",
       "8.0   1.944430e-02\n",
       "9.0   3.240717e-02\n",
       "10.0  4.861075e-02\n",
       "11.0  6.628739e-02\n",
       "12.0  8.285923e-02\n",
       "13.0  9.560681e-02\n",
       "14.0  1.024359e-01\n",
       "15.0  1.024359e-01\n",
       "16.0  9.603362e-02\n",
       "17.0  8.473555e-02\n",
       "18.0  7.061296e-02\n",
       "19.0  5.574707e-02\n",
       "20.0  4.181031e-02\n",
       "21.0  2.986450e-02\n",
       "22.0  2.036216e-02\n",
       "23.0  1.327967e-02\n",
       "24.0  8.299794e-03\n",
       "25.0  4.979876e-03\n",
       "26.0  2.873006e-03\n",
       "27.0  1.596114e-03\n",
       "28.0  8.550612e-04\n",
       "29.0  4.422730e-04\n",
       "30.0  2.211365e-04\n",
       "31.0  1.070015e-04"
      ]
     },
     "execution_count": 22,
     "metadata": {},
     "output_type": "execute_result"
    }
   ],
   "source": [
    "z_max = sp.stats.poisson.ppf( 0.9999, 15 )\n",
    "z_var = np.arange( z_max + 1 )\n",
    "z_prob = sp.stats.poisson.pmf( z_var, 15 )\n",
    "\n",
    "r3p = pd.DataFrame(\n",
    "    data = z_prob,\n",
    "    index = z_var,\n",
    "    columns = [\"P(Z=z)\"]\n",
    ")\n",
    "\n",
    "r3p.index.name = \"z\"\n",
    "r3p"
   ]
  },
  {
   "cell_type": "code",
   "execution_count": 23,
   "id": "28746332-5596-4b9f-bfa5-7eaee647891a",
   "metadata": {
    "deletable": false,
    "editable": false,
    "nbgrader": {
     "cell_type": "code",
     "checksum": "b56ea8ad2105c4a51a48a611a6bff65f",
     "grade": true,
     "grade_id": "cell-24d9491b73d67ea7",
     "locked": true,
     "points": 3,
     "schema_version": 3,
     "solution": false,
     "task": false
    },
    "tags": []
   },
   "outputs": [],
   "source": [
    "# Komórka testowa\n",
    "assert type(r3p) == pd.DataFrame\n",
    "assert r3p.shape == (32, 1)\n",
    "assert list(r3p.columns) == [\"P(Z=z)\"]\n",
    "assert r3p.index.name == \"z\"\n",
    "assert np.isclose(np.sum(r3p.index.values), 496)\n",
    "assert np.isclose(np.sum(r3p[\"P(Z=z)\"]), 0.9999)"
   ]
  },
  {
   "cell_type": "markdown",
   "id": "738440e2-5f9d-42be-960f-01375cf5dfaa",
   "metadata": {
    "deletable": false,
    "editable": false,
    "nbgrader": {
     "cell_type": "markdown",
     "checksum": "362e2d5923d4d40afe56e7151a1ef126",
     "grade": false,
     "grade_id": "cell-a53b2a5b3bd05209",
     "locked": true,
     "schema_version": 3,
     "solution": false,
     "task": false
    },
    "tags": []
   },
   "source": [
    "#### b) Dystrybuanta w formie tabelarycznej\n",
    "\n",
    "Przedstaw dystrybuantę zmiennej losowej Z w formie tablicy `r3f` o następującej strukturze:\n",
    "\n",
    "> Indeks:</br>\n",
    "> z - przedziały, w których wartość dystrybuanty jest stała przedstawione jako `pandas.IntervalIndex`.</br>\n",
    "\n",
    "> Kolumny:</br>\n",
    "> F(z) - wartości dystrybuanty wyliczone dla poszczególnych przedziałów.\n",
    "\n",
    "Uwagi do wykonania zadania:\n",
    " - Przedziały wartości zdefiniuj jako `pandas.IntervalIndex` za pomocą jednej z metod tej klasy  -  `from_array()`, `from_tuples()` lub `from_breaks()`.\n",
    " - Wartości prawdopodobieństwa poszczególnych przedziałów oblicz za pomocą odpowiedniej funkcji z modułu `scipy.stats.poisson`."
   ]
  },
  {
   "cell_type": "code",
   "execution_count": 24,
   "id": "0576039c-3e03-4390-8bcb-00f09df2a86a",
   "metadata": {
    "deletable": false,
    "nbgrader": {
     "cell_type": "code",
     "checksum": "97d78abfa23530ae791d33f8846c1a77",
     "grade": false,
     "grade_id": "cell-898ff333abae2b53",
     "locked": false,
     "schema_version": 3,
     "solution": true,
     "task": false
    },
    "tags": []
   },
   "outputs": [
    {
     "data": {
      "text/html": [
       "<div>\n",
       "<style scoped>\n",
       "    .dataframe tbody tr th:only-of-type {\n",
       "        vertical-align: middle;\n",
       "    }\n",
       "\n",
       "    .dataframe tbody tr th {\n",
       "        vertical-align: top;\n",
       "    }\n",
       "\n",
       "    .dataframe thead th {\n",
       "        text-align: right;\n",
       "    }\n",
       "</style>\n",
       "<table border=\"1\" class=\"dataframe\">\n",
       "  <thead>\n",
       "    <tr style=\"text-align: right;\">\n",
       "      <th></th>\n",
       "      <th>F(z)</th>\n",
       "    </tr>\n",
       "    <tr>\n",
       "      <th>z</th>\n",
       "      <th></th>\n",
       "    </tr>\n",
       "  </thead>\n",
       "  <tbody>\n",
       "    <tr>\n",
       "      <th>[-inf, 0.0)</th>\n",
       "      <td>0.000000e+00</td>\n",
       "    </tr>\n",
       "    <tr>\n",
       "      <th>[0.0, 1.0)</th>\n",
       "      <td>3.059023e-07</td>\n",
       "    </tr>\n",
       "    <tr>\n",
       "      <th>[1.0, 2.0)</th>\n",
       "      <td>4.894437e-06</td>\n",
       "    </tr>\n",
       "    <tr>\n",
       "      <th>[2.0, 3.0)</th>\n",
       "      <td>3.930845e-05</td>\n",
       "    </tr>\n",
       "    <tr>\n",
       "      <th>[3.0, 4.0)</th>\n",
       "      <td>2.113785e-04</td>\n",
       "    </tr>\n",
       "    <tr>\n",
       "      <th>[4.0, 5.0)</th>\n",
       "      <td>8.566412e-04</td>\n",
       "    </tr>\n",
       "    <tr>\n",
       "      <th>[5.0, 6.0)</th>\n",
       "      <td>2.792429e-03</td>\n",
       "    </tr>\n",
       "    <tr>\n",
       "      <th>[6.0, 7.0)</th>\n",
       "      <td>7.631900e-03</td>\n",
       "    </tr>\n",
       "    <tr>\n",
       "      <th>[7.0, 8.0)</th>\n",
       "      <td>1.800219e-02</td>\n",
       "    </tr>\n",
       "    <tr>\n",
       "      <th>[8.0, 9.0)</th>\n",
       "      <td>3.744649e-02</td>\n",
       "    </tr>\n",
       "    <tr>\n",
       "      <th>[9.0, 10.0)</th>\n",
       "      <td>6.985366e-02</td>\n",
       "    </tr>\n",
       "    <tr>\n",
       "      <th>[10.0, 11.0)</th>\n",
       "      <td>1.184644e-01</td>\n",
       "    </tr>\n",
       "    <tr>\n",
       "      <th>[11.0, 12.0)</th>\n",
       "      <td>1.847518e-01</td>\n",
       "    </tr>\n",
       "    <tr>\n",
       "      <th>[12.0, 13.0)</th>\n",
       "      <td>2.676110e-01</td>\n",
       "    </tr>\n",
       "    <tr>\n",
       "      <th>[13.0, 14.0)</th>\n",
       "      <td>3.632178e-01</td>\n",
       "    </tr>\n",
       "    <tr>\n",
       "      <th>[14.0, 15.0)</th>\n",
       "      <td>4.656537e-01</td>\n",
       "    </tr>\n",
       "    <tr>\n",
       "      <th>[15.0, 16.0)</th>\n",
       "      <td>5.680896e-01</td>\n",
       "    </tr>\n",
       "    <tr>\n",
       "      <th>[16.0, 17.0)</th>\n",
       "      <td>6.641232e-01</td>\n",
       "    </tr>\n",
       "    <tr>\n",
       "      <th>[17.0, 18.0)</th>\n",
       "      <td>7.488588e-01</td>\n",
       "    </tr>\n",
       "    <tr>\n",
       "      <th>[18.0, 19.0)</th>\n",
       "      <td>8.194717e-01</td>\n",
       "    </tr>\n",
       "    <tr>\n",
       "      <th>[19.0, 20.0)</th>\n",
       "      <td>8.752188e-01</td>\n",
       "    </tr>\n",
       "    <tr>\n",
       "      <th>[20.0, 21.0)</th>\n",
       "      <td>9.170291e-01</td>\n",
       "    </tr>\n",
       "    <tr>\n",
       "      <th>[21.0, 22.0)</th>\n",
       "      <td>9.468936e-01</td>\n",
       "    </tr>\n",
       "    <tr>\n",
       "      <th>[22.0, 23.0)</th>\n",
       "      <td>9.672558e-01</td>\n",
       "    </tr>\n",
       "    <tr>\n",
       "      <th>[23.0, 24.0)</th>\n",
       "      <td>9.805354e-01</td>\n",
       "    </tr>\n",
       "    <tr>\n",
       "      <th>[24.0, 25.0)</th>\n",
       "      <td>9.888352e-01</td>\n",
       "    </tr>\n",
       "    <tr>\n",
       "      <th>[25.0, 26.0)</th>\n",
       "      <td>9.938151e-01</td>\n",
       "    </tr>\n",
       "    <tr>\n",
       "      <th>[26.0, 27.0)</th>\n",
       "      <td>9.966881e-01</td>\n",
       "    </tr>\n",
       "    <tr>\n",
       "      <th>[27.0, 28.0)</th>\n",
       "      <td>9.982842e-01</td>\n",
       "    </tr>\n",
       "    <tr>\n",
       "      <th>[28.0, 29.0)</th>\n",
       "      <td>9.991393e-01</td>\n",
       "    </tr>\n",
       "    <tr>\n",
       "      <th>[29.0, 30.0)</th>\n",
       "      <td>9.995816e-01</td>\n",
       "    </tr>\n",
       "    <tr>\n",
       "      <th>[30.0, 31.0)</th>\n",
       "      <td>9.998027e-01</td>\n",
       "    </tr>\n",
       "    <tr>\n",
       "      <th>[31.0, inf)</th>\n",
       "      <td>9.999097e-01</td>\n",
       "    </tr>\n",
       "  </tbody>\n",
       "</table>\n",
       "</div>"
      ],
      "text/plain": [
       "                      F(z)\n",
       "z                         \n",
       "[-inf, 0.0)   0.000000e+00\n",
       "[0.0, 1.0)    3.059023e-07\n",
       "[1.0, 2.0)    4.894437e-06\n",
       "[2.0, 3.0)    3.930845e-05\n",
       "[3.0, 4.0)    2.113785e-04\n",
       "[4.0, 5.0)    8.566412e-04\n",
       "[5.0, 6.0)    2.792429e-03\n",
       "[6.0, 7.0)    7.631900e-03\n",
       "[7.0, 8.0)    1.800219e-02\n",
       "[8.0, 9.0)    3.744649e-02\n",
       "[9.0, 10.0)   6.985366e-02\n",
       "[10.0, 11.0)  1.184644e-01\n",
       "[11.0, 12.0)  1.847518e-01\n",
       "[12.0, 13.0)  2.676110e-01\n",
       "[13.0, 14.0)  3.632178e-01\n",
       "[14.0, 15.0)  4.656537e-01\n",
       "[15.0, 16.0)  5.680896e-01\n",
       "[16.0, 17.0)  6.641232e-01\n",
       "[17.0, 18.0)  7.488588e-01\n",
       "[18.0, 19.0)  8.194717e-01\n",
       "[19.0, 20.0)  8.752188e-01\n",
       "[20.0, 21.0)  9.170291e-01\n",
       "[21.0, 22.0)  9.468936e-01\n",
       "[22.0, 23.0)  9.672558e-01\n",
       "[23.0, 24.0)  9.805354e-01\n",
       "[24.0, 25.0)  9.888352e-01\n",
       "[25.0, 26.0)  9.938151e-01\n",
       "[26.0, 27.0)  9.966881e-01\n",
       "[27.0, 28.0)  9.982842e-01\n",
       "[28.0, 29.0)  9.991393e-01\n",
       "[29.0, 30.0)  9.995816e-01\n",
       "[30.0, 31.0)  9.998027e-01\n",
       "[31.0, inf)   9.999097e-01"
      ]
     },
     "execution_count": 24,
     "metadata": {},
     "output_type": "execute_result"
    }
   ],
   "source": [
    "z_interval = pd.IntervalIndex.from_breaks( \n",
    "    np.hstack( [-np.inf, r3p.index, np.inf] ), \n",
    "    closed=\"left\" \n",
    ")\n",
    "\n",
    "z_prob_interval = np.hstack( [ 0, sp.stats.poisson.cdf( r3p.index, 15 ) ] )\n",
    "r3f = pd.DataFrame(\n",
    "    data = z_prob_interval,\n",
    "    index = z_interval,\n",
    "    columns = [\"F(z)\"]\n",
    ")\n",
    "r3f.index.name = \"z\"\n",
    "r3f"
   ]
  },
  {
   "cell_type": "code",
   "execution_count": 25,
   "id": "adeb1ee2-7f6b-4b6c-902f-45054f50646a",
   "metadata": {
    "deletable": false,
    "editable": false,
    "nbgrader": {
     "cell_type": "code",
     "checksum": "224479a78f1fbf78f8c6352fa942ea89",
     "grade": true,
     "grade_id": "cell-e84aafa7aae2461e",
     "locked": true,
     "points": 3,
     "schema_version": 3,
     "solution": false,
     "task": false
    },
    "tags": []
   },
   "outputs": [],
   "source": [
    "# Komórka testowa\n",
    "assert type(r3f) == pd.DataFrame\n",
    "assert r3f.shape == (33, 1)\n",
    "assert list(r3f.columns) == [\"F(z)\"]\n",
    "assert r3f.index.name == \"z\"\n",
    "assert type(r3f.index) == pd.core.indexes.interval.IntervalIndex\n",
    "assert r3f.index.closed == 'left'\n",
    "assert np.isclose(r3f[\"F(z)\"].min(), 0.0)\n",
    "assert np.isclose(r3f[\"F(z)\"].max(), 0.9999)"
   ]
  },
  {
   "cell_type": "markdown",
   "id": "32ff465d-0bd2-4798-bb4b-caa370e4a6aa",
   "metadata": {
    "deletable": false,
    "editable": false,
    "nbgrader": {
     "cell_type": "markdown",
     "checksum": "12a226ef194fe4e881a76f5ea2137664",
     "grade": false,
     "grade_id": "cell-b3dc47cb7a40cf0f",
     "locked": true,
     "schema_version": 3,
     "solution": false,
     "task": false
    },
    "tags": []
   },
   "source": [
    "#### c) Wizualizacja rozkładu prawdopodobieństwa i dystrybuanty\n",
    "\n",
    "Wykorzystaj funkcję `vizualize_discrete_distribution()` do przedstawienia rozkładu prawdopodobieństwa oraz dystrybuanty rozkładu zmiennej losowej Z w formie wykresów."
   ]
  },
  {
   "cell_type": "code",
   "execution_count": 26,
   "id": "9f104bff-af61-4db4-8e05-0fe2f16f474b",
   "metadata": {
    "deletable": false,
    "nbgrader": {
     "cell_type": "code",
     "checksum": "7556c159af79e91f77badc01cba3823e",
     "grade": true,
     "grade_id": "cell-2a45321819bd1146",
     "locked": false,
     "points": 1,
     "schema_version": 3,
     "solution": true,
     "task": false
    },
    "tags": []
   },
   "outputs": [
    {
     "data": {
      "image/png": "[encoded data removed]",
      "text/plain": [
       "<Figure size 1000x500 with 2 Axes>"
      ]
     },
     "metadata": {},
     "output_type": "display_data"
    }
   ],
   "source": [
    "vizualize_discrete_distribution( r3p, r3f )"
   ]
  },
  {
   "cell_type": "markdown",
   "id": "03ff67d2-293e-49a6-94ff-113c7d79cd0e",
   "metadata": {
    "deletable": false,
    "editable": false,
    "nbgrader": {
     "cell_type": "markdown",
     "checksum": "769b9a5e152bdd89d78a06ddf1abb315",
     "grade": false,
     "grade_id": "cell-2315ebf313deb6e5",
     "locked": true,
     "schema_version": 3,
     "solution": false,
     "task": false
    },
    "tags": []
   },
   "source": [
    "#### d) Podstawowe parametry rozkładu\n",
    "\n",
    "Oblicz i zapisz do zmiennych następujące parametry rozkładu zmiennej losowej Z - wartość średnia (`r3_mean`), wariancja(`r3_var`) i odchylenie standardowe (`r3_std`).\n",
    "\n",
    "Uwagi do wykonania zadania:\n",
    " - Wartości poszczególnych parametrów oblicz za pomocą odpowiedniej funkcji z modułu `scipy.stats.poisson`."
   ]
  },
  {
   "cell_type": "code",
   "execution_count": 27,
   "id": "2db2c154-d04f-4407-9fcb-8ad05c621dfc",
   "metadata": {
    "deletable": false,
    "nbgrader": {
     "cell_type": "code",
     "checksum": "db483cd815bf5576671bc5d2fd9654d6",
     "grade": false,
     "grade_id": "cell-f9d98307e6c21ad0",
     "locked": false,
     "schema_version": 3,
     "solution": true,
     "task": false
    },
    "tags": []
   },
   "outputs": [
    {
     "data": {
      "text/plain": [
       "15.0"
      ]
     },
     "execution_count": 27,
     "metadata": {},
     "output_type": "execute_result"
    }
   ],
   "source": [
    "r3_mean = sp.stats.poisson.mean( 15 )\n",
    "r3_mean"
   ]
  },
  {
   "cell_type": "code",
   "execution_count": 28,
   "id": "6277d78b-164f-4336-88f9-dc976cd9e4f8",
   "metadata": {
    "deletable": false,
    "nbgrader": {
     "cell_type": "code",
     "checksum": "24b21e7c36586e083a36890189525c95",
     "grade": false,
     "grade_id": "cell-76dc759b5ee86e44",
     "locked": false,
     "schema_version": 3,
     "solution": true,
     "task": false
    },
    "tags": []
   },
   "outputs": [
    {
     "data": {
      "text/plain": [
       "15.0"
      ]
     },
     "execution_count": 28,
     "metadata": {},
     "output_type": "execute_result"
    }
   ],
   "source": [
    "# Wariancja\n",
    "r3_var = sp.stats.poisson.var( 15 )\n",
    "r3_var"
   ]
  },
  {
   "cell_type": "code",
   "execution_count": 29,
   "id": "1db8aa39-b3cd-4635-b416-4b993aed5b9e",
   "metadata": {
    "deletable": false,
    "nbgrader": {
     "cell_type": "code",
     "checksum": "39c59472200b5628d14f6f334a3ad683",
     "grade": false,
     "grade_id": "cell-726c5ba8f4d8ef39",
     "locked": false,
     "schema_version": 3,
     "solution": true,
     "task": false
    },
    "tags": []
   },
   "outputs": [
    {
     "data": {
      "text/plain": [
       "3.872983346207417"
      ]
     },
     "execution_count": 29,
     "metadata": {},
     "output_type": "execute_result"
    }
   ],
   "source": [
    "# Odchylenie standardowe\n",
    "r3_std = sp.stats.poisson.std( 15 )\n",
    "r3_std"
   ]
  },
  {
   "cell_type": "code",
   "execution_count": 30,
   "id": "831e1de2-5e0b-48dc-a5fa-735757d3a315",
   "metadata": {
    "deletable": false,
    "editable": false,
    "nbgrader": {
     "cell_type": "code",
     "checksum": "9cd78c3dddfdbb489b585d5d598c4a3c",
     "grade": true,
     "grade_id": "cell-a60a3d81d531e8d3",
     "locked": true,
     "points": 3,
     "schema_version": 3,
     "solution": false,
     "task": false
    },
    "tags": []
   },
   "outputs": [],
   "source": [
    "# Komórka testowa\n",
    "assert np.isclose(r3_mean, 15.0)\n",
    "assert np.isclose(r3_var, 15.0)\n",
    "assert np.isclose(r3_std, 3.872983346207417)"
   ]
  },
  {
   "cell_type": "markdown",
   "id": "feaee8b3-b44c-4515-b8a9-85e39756930c",
   "metadata": {
    "deletable": false,
    "editable": false,
    "nbgrader": {
     "cell_type": "markdown",
     "checksum": "2e2de8acfe990021ea8ecc25670d82b1",
     "grade": false,
     "grade_id": "cell-f4ad05f6afc9d9c4",
     "locked": true,
     "schema_version": 3,
     "solution": false,
     "task": false
    },
    "tags": []
   },
   "source": [
    "### Zadanie 4: Obliczanie i wizualizacja prawdopodobieństw [6 pkt]\n",
    "\n",
    "Oblicz i przedstaw na wykresach następujące prawdopodobieństwa:\n",
    "- P(X>5)\n",
    "- P(1<Y<=6)\n",
    "- P(Z<=12 | Z>21)\n",
    "\n",
    "Wyniki zapisz kolejno do zmiennych `p1`, `p2` i `p3` oraz przedstaw na wykresach korzystając z funkcji `vizualize_discrete_distribution()`.\n",
    "\n",
    "#### a) P(X>5)"
   ]
  },
  {
   "cell_type": "code",
   "execution_count": 31,
   "id": "86a17697-a77d-4b9d-9287-5b95219ae4d4",
   "metadata": {
    "deletable": false,
    "nbgrader": {
     "cell_type": "code",
     "checksum": "841826b979ad784bb5d5213fbc1fcad9",
     "grade": false,
     "grade_id": "cell-fbd3e6df3d1ddd6c",
     "locked": false,
     "schema_version": 3,
     "solution": true,
     "task": false
    },
    "tags": []
   },
   "outputs": [
    {
     "data": {
      "image/png": "[encoded data removed]",
      "text/plain": [
       "<Figure size 1000x500 with 2 Axes>"
      ]
     },
     "metadata": {},
     "output_type": "display_data"
    }
   ],
   "source": [
    "mask_p1 = r1p.index > 5\n",
    "p1 = r1p[\"P(X=x)\"].values[mask_p1].sum()\n",
    "vizualize_discrete_distribution( r1p, r1f, mask_p1 )"
   ]
  },
  {
   "cell_type": "code",
   "execution_count": 32,
   "id": "4e7fcb2e-c553-487b-92a7-2b0bc73d85b2",
   "metadata": {
    "deletable": false,
    "editable": false,
    "nbgrader": {
     "cell_type": "code",
     "checksum": "b61f7a6a9d6189ade848f0178db083fd",
     "grade": true,
     "grade_id": "cell-8ba513a529900540",
     "locked": true,
     "points": 2,
     "schema_version": 3,
     "solution": false,
     "task": false
    },
    "tags": []
   },
   "outputs": [],
   "source": [
    "# Komórka testowa\n",
    "assert np.isclose(p1, 0.7)"
   ]
  },
  {
   "cell_type": "markdown",
   "id": "fd780238-abdb-400d-a6f1-91e4d21bcb46",
   "metadata": {
    "deletable": false,
    "editable": false,
    "nbgrader": {
     "cell_type": "markdown",
     "checksum": "d374916da6ac0413b8138f4d394ad207",
     "grade": false,
     "grade_id": "cell-6cdae354c28d56bf",
     "locked": true,
     "schema_version": 3,
     "solution": false,
     "task": false
    },
    "tags": []
   },
   "source": [
    "#### b) P(1<Y<=6)"
   ]
  },
  {
   "cell_type": "code",
   "execution_count": 33,
   "id": "985a0076-6f80-4756-906a-787613f01820",
   "metadata": {
    "deletable": false,
    "nbgrader": {
     "cell_type": "code",
     "checksum": "b0f838363a6257e73a94023dbce8eb85",
     "grade": false,
     "grade_id": "cell-d5b47b2d71db3ce7",
     "locked": false,
     "schema_version": 3,
     "solution": true,
     "task": false
    },
    "tags": []
   },
   "outputs": [
    {
     "data": {
      "image/png": "[encoded data removed]",
      "text/plain": [
       "<Figure size 1000x500 with 2 Axes>"
      ]
     },
     "metadata": {},
     "output_type": "display_data"
    }
   ],
   "source": [
    "p2 = sp.stats.binom.cdf(6,10,0.5) - sp.stats.binom.cdf(1,10,0.5)\n",
    "mask2 = (r2p.index <= 6) & (r2p.index > 1)\n",
    "vizualize_discrete_distribution(r2p,r2f,mask2)"
   ]
  },
  {
   "cell_type": "code",
   "execution_count": 34,
   "id": "fd0071c3-8031-48a7-b5f6-ffb7c5390153",
   "metadata": {
    "deletable": false,
    "editable": false,
    "nbgrader": {
     "cell_type": "code",
     "checksum": "1aaa300428b8aca1f70416742eb780c7",
     "grade": true,
     "grade_id": "cell-7dbe189bc251231d",
     "locked": true,
     "points": 2,
     "schema_version": 3,
     "solution": false,
     "task": false
    },
    "tags": []
   },
   "outputs": [],
   "source": [
    "# Komórka testowa\n",
    "assert np.isclose(p2, 0.8173828125)"
   ]
  },
  {
   "cell_type": "code",
   "execution_count": null,
   "id": "8f7e5f1a-3725-46cf-bb1b-39f3abc34e9e",
   "metadata": {},
   "outputs": [],
   "source": []
  },
  {
   "cell_type": "markdown",
   "id": "6e051ba9-b60a-4ce0-aef3-17167c505bc9",
   "metadata": {
    "deletable": false,
    "editable": false,
    "nbgrader": {
     "cell_type": "markdown",
     "checksum": "36193fc118a3d9f85db3a81dfc7a5eca",
     "grade": false,
     "grade_id": "cell-eff8933a42f08ad6",
     "locked": true,
     "schema_version": 3,
     "solution": false,
     "task": false
    },
    "tags": []
   },
   "source": [
    "#### c) P(Z<=12 | Z>21)"
   ]
  },
  {
   "cell_type": "code",
   "execution_count": 35,
   "id": "44d11f04-fff1-4c9b-9909-af437d37460a",
   "metadata": {
    "deletable": false,
    "nbgrader": {
     "cell_type": "code",
     "checksum": "25ad07186aeee88caabf86dc248ae16b",
     "grade": false,
     "grade_id": "cell-3a65006da53384a7",
     "locked": false,
     "schema_version": 3,
     "solution": true,
     "task": false
    },
    "tags": []
   },
   "outputs": [
    {
     "data": {
      "text/plain": [
       "0.32071743985184814"
      ]
     },
     "execution_count": 35,
     "metadata": {},
     "output_type": "execute_result"
    },
    {
     "data": {
      "image/png": "[encoded data removed]",
      "text/plain": [
       "<Figure size 1000x500 with 2 Axes>"
      ]
     },
     "metadata": {},
     "output_type": "display_data"
    }
   ],
   "source": [
    "p3 = sp.stats.poisson.cdf( 12, 15 ) + ( 1 - sp.stats.poisson.cdf( 21 ,15 ) )\n",
    "mask_p3 = (r3p.index <= 12) | (r3p.index > 21)\n",
    "vizualize_discrete_distribution( r3p, r3f, mask_p3 )\n",
    "p3"
   ]
  },
  {
   "cell_type": "code",
   "execution_count": 36,
   "id": "25556d0f-4f09-4211-b111-1a6d9a3d64ba",
   "metadata": {
    "deletable": false,
    "editable": false,
    "nbgrader": {
     "cell_type": "code",
     "checksum": "48bbcbff1d6270bfbe3bfd95b1677889",
     "grade": true,
     "grade_id": "cell-9b12a48772d10fd7",
     "locked": true,
     "points": 2,
     "schema_version": 3,
     "solution": false,
     "task": false
    },
    "tags": []
   },
   "outputs": [],
   "source": [
    "# Komórka testowa\n",
    "assert np.isclose(p3, 0.32071743985184814)"
   ]
  },
  {
   "cell_type": "code",
   "execution_count": null,
   "id": "304bb97d-6f0c-49b8-b4aa-f4e0f2c2f231",
   "metadata": {},
   "outputs": [],
   "source": []
  }
 ],
 "metadata": {
  "kernelspec": {
   "display_name": "Python 3 (ipykernel)",
   "language": "python",
   "name": "python3"
  },
  "language_info": {
   "codemirror_mode": {
    "name": "ipython",
    "version": 3
   },
   "file_extension": ".py",
   "mimetype": "text/x-python",
   "name": "python",
   "nbconvert_exporter": "python",
   "pygments_lexer": "ipython3",
   "version": "3.12.2"
  }
 },
 "nbformat": 4,
 "nbformat_minor": 5
}
